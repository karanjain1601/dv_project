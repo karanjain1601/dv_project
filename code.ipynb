{
 "cells": [
  {
   "cell_type": "code",
   "execution_count": 1,
   "metadata": {},
   "outputs": [
    {
     "name": "stderr",
     "output_type": "stream",
     "text": [
      "/tmp/ipykernel_429135/305278459.py:2: UserWarning: \n",
      "The dash_core_components package is deprecated. Please replace\n",
      "`import dash_core_components as dcc` with `from dash import dcc`\n",
      "  import dash_core_components as dcc\n",
      "/tmp/ipykernel_429135/305278459.py:3: UserWarning: \n",
      "The dash_html_components package is deprecated. Please replace\n",
      "`import dash_html_components as html` with `from dash import html`\n",
      "  import dash_html_components as html\n"
     ]
    },
    {
     "name": "stdout",
     "output_type": "stream",
     "text": [
      "Dash is running on http://127.0.0.1:8050/\n",
      "\n",
      " * Serving Flask app '__main__'\n",
      " * Debug mode: off\n"
     ]
    },
    {
     "name": "stderr",
     "output_type": "stream",
     "text": [
      "WARNING: This is a development server. Do not use it in a production deployment. Use a production WSGI server instead.\n",
      " * Running on http://127.0.0.1:8050\n",
      "Press CTRL+C to quit\n"
     ]
    }
   ],
   "source": [
    "import dash\n",
    "import dash_core_components as dcc\n",
    "import dash_html_components as html\n",
    "from dash.dependencies import Input, Output\n",
    "import pandas as pd\n",
    "\n",
    "# Define the layout for each Dashboard\n",
    "dashboard1_layout = html.Div([\n",
    "    html.H1('Dashboard 1'),\n",
    "    dcc.Link('Go to Dashboard 2', href='/dashboard2'),\n",
    "])\n",
    "\n",
    "dashboard2_layout = html.Div([\n",
    "    html.H1('Dashboard 2'),\n",
    "    dcc.Link('Go to Dashboard 1', href='/dashboard1'),\n",
    "])\n",
    "\n",
    "# Define the app\n",
    "app = dash.Dash(__name__)\n",
    "\n",
    "# Define a callback function\n",
    "@app.callback(Output('page-content', 'children'),\n",
    "              [Input('url', 'pathname')])\n",
    "def display_page(pathname):\n",
    "    if pathname == '/dashboard1':\n",
    "        return dashboard1_layout\n",
    "    elif pathname == '/dashboard2':\n",
    "        return dashboard2_layout\n",
    "    else:\n",
    "        return html.H1('404 - Page not found')\n",
    "\n",
    "# Define the app layout\n",
    "app.layout = html.Div([\n",
    "    dcc.Location(id='url', refresh=True),\n",
    "    html.Div(id='page-content')\n",
    "])\n",
    "\n",
    "if __name__ == '__main__':\n",
    "    app.run_server(debug=False)\n"
   ]
  },
  {
   "cell_type": "code",
   "execution_count": 1,
   "metadata": {},
   "outputs": [],
   "source": [
    "import plotly.graph_objs as go\n",
    "\n",
    "trace = go.Scatter(\n",
    "    x=[1, 2, 3, 4, 5],\n",
    "    y=[1, 2, 3, 4, 5],\n",
    "    mode='markers'\n",
    ")\n",
    "\n",
    "data = [trace]\n",
    "\n",
    "layout = go.Layout(\n",
    "    title='Interactive Scatter Plot',\n",
    "    xaxis=dict(title='X-axis'),\n",
    "    yaxis=dict(title='Y-axis')\n",
    ")\n",
    "\n",
    "fig = go.Figure(data=data, layout=layout)\n",
    "\n"
   ]
  },
  {
   "cell_type": "code",
   "execution_count": null,
   "metadata": {},
   "outputs": [],
   "source": [
    "import dash\n",
    "import dash_core_components as dcc\n",
    "import dash_html_components as html\n",
    "\n",
    "app = dash.Dash()\n",
    "\n",
    "app.layout = html.Div([\n",
    "    html.H1('My Interactive Dashboard'),\n",
    "    dcc.Graph(\n",
    "        id='my-graph',\n",
    "        figure=fig\n",
    "    )\n",
    "])\n",
    "\n",
    "if __name__ == '__main__':\n",
    "    app.run_server(debug=False)\n"
   ]
  },
  {
   "cell_type": "code",
   "execution_count": null,
   "metadata": {},
   "outputs": [],
   "source": [
    "ipl_win = pd.read_csv('./IPL_win.csv')\n",
    "ipl_win"
   ]
  },
  {
   "cell_type": "code",
   "execution_count": 2,
   "metadata": {},
   "outputs": [],
   "source": [
    "import pandas as pd\n",
    "import dash\n",
    "from dash import dcc, html\n",
    "import plotly.graph_objs as go\n",
    "import numpy as np\n",
    "app = dash.Dash(__name__)"
   ]
  },
  {
   "attachments": {},
   "cell_type": "markdown",
   "metadata": {},
   "source": [
    "## Pir chart for IPL win team"
   ]
  },
  {
   "cell_type": "code",
   "execution_count": 7,
   "metadata": {},
   "outputs": [],
   "source": [
    "\n",
    "\n",
    "ipl_win = pd.read_csv('./IPL_win.csv')\n",
    "team_wins = ipl_win['Team'].value_counts()\n",
    "pie_trace = go.Pie(labels=team_wins.index, values=team_wins.values)\n",
    "pie_layout = go.Layout(title='IPL Team Wins Pie Chart')\n",
    "fig = go.Figure(data=[pie_trace], layout=pie_layout)\n",
    "\n",
    " \n",
    "\n"
   ]
  },
  {
   "attachments": {},
   "cell_type": "markdown",
   "metadata": {},
   "source": [
    "## Line chart for Total run per team with season on X and run on y"
   ]
  },
  {
   "cell_type": "code",
   "execution_count": null,
   "metadata": {},
   "outputs": [],
   "source": [
    "data = pd.read_csv('./IPL_Ball_by_Ball_2008_2022_with_season.csv')\n",
    "total_runs = data.groupby(['Season', 'BattingTeam'])['total_run'].sum()\n",
    "total_runs\n",
    "total_runs = total_runs.reset_index()\n",
    "total_runs.to_csv('Total_run_per_team_per_Season.csv', index=False)"
   ]
  },
  {
   "cell_type": "code",
   "execution_count": null,
   "metadata": {},
   "outputs": [],
   "source": [
    "import pandas as pd\n",
    "import plotly.express as px\n",
    "import dash\n",
    "import dash_core_components as dcc\n",
    "import dash_html_components as html\n",
    "from dash.dependencies import Input, Output\n",
    "\n",
    "# Read the CSV file\n",
    "df = pd.read_csv('Total_run_per_team_per_Season.csv')\n",
    "\n",
    "# Create a Dash app\n",
    "app = dash.Dash(__name__)\n",
    "\n",
    "# Create a list of teams for the dropdown\n",
    "teams = sorted(df['BattingTeam'].unique())\n",
    "\n",
    "# Define the layout of the app\n",
    "app.layout = html.Div([\n",
    "    html.H1(\"Total runs per season for each team\"),\n",
    "    dcc.Dropdown(\n",
    "        id='team-dropdown',\n",
    "        options=[{'label': team, 'value': team} for team in teams],\n",
    "        value=teams[0]\n",
    "    ),\n",
    "    dcc.Graph(id='line-chart')\n",
    "])\n",
    "\n",
    "# Define the callback function to update the line chart based on the selected team\n",
    "@app.callback(\n",
    "    Output('line-chart', 'figure'),\n",
    "    [Input('team-dropdown', 'value')]\n",
    ")\n",
    "def update_line_chart(selected_team):\n",
    "    # Filter the dataframe based on the selected team\n",
    "    filtered_df = df[df['BattingTeam'] == selected_team]\n",
    "    filtered_df.sort_values('Season', inplace=True)\n",
    "    # Create a line chart using Plotly Express\n",
    "    fig = px.line(filtered_df, x='Season', y='total_run', title=f'Total runs per season for {selected_team}')\n",
    "    return fig\n",
    "\n",
    "if __name__ == '__main__':\n",
    "    app.run_server(debug=False)"
   ]
  },
  {
   "attachments": {},
   "cell_type": "markdown",
   "metadata": {},
   "source": [
    "## Line Plot of Total run per player with season on X and run on y"
   ]
  },
  {
   "cell_type": "code",
   "execution_count": null,
   "metadata": {},
   "outputs": [],
   "source": [
    "data = pd.read_csv('./IPL_Ball_by_Ball_2008_2022_with_season.csv')\n",
    "total_runs_batsman = data.groupby(['Season', 'batter'])['batsman_run'].sum()\n",
    "total_runs_batsman = total_runs_batsman.reset_index()\n",
    "total_runs_batsman\n",
    "total_runs_batsman.to_csv('Total_run_per_batsman_per_Season.csv', index=False)"
   ]
  },
  {
   "cell_type": "code",
   "execution_count": 38,
   "metadata": {},
   "outputs": [],
   "source": [
    "df = pd.read_csv('Total_run_per_batsman_per_Season.csv')\n",
    "players = sorted(df['batter'].unique())\n",
    "app = dash.Dash(__name__)\n",
    "app.layout = html.Div([\n",
    "    html.H1(\"Total runs per season for each batsman\"),\n",
    "    dcc.Dropdown(\n",
    "        id='player-dropdown',\n",
    "        options=[{'label': player, 'value': player} for player in players],\n",
    "        value=players[0]\n",
    "    ),\n",
    "    dcc.Graph(id='line-chart')\n",
    "])\n",
    "@app.callback(\n",
    "    Output('line-chart', 'figure'),\n",
    "    [Input('player-dropdown', 'value')]\n",
    ")\n",
    "def update_line_chart(selected_player):\n",
    "    # Filter the dataframe based on the selected team\n",
    "    filtered_df = df[df['batter'] == selected_player]\n",
    "    filtered_df.sort_values('Season', inplace=True)\n",
    "    # Create a line chart using Plotly Express\n",
    "    fig = px.line(filtered_df, x='Season', y='batsman_run', title=f'Total runs per season for {selected_player}')\n",
    "    return fig\n",
    "if __name__ == '__main__':\n",
    "    app.run_server(debug=False)\n"
   ]
  },
  {
   "attachments": {},
   "cell_type": "markdown",
   "metadata": {},
   "source": [
    "## Bump Plot of Rank"
   ]
  },
  {
   "cell_type": "code",
   "execution_count": null,
   "metadata": {},
   "outputs": [],
   "source": [
    "import plotly.express as px\n",
    "data = pd.read_csv('./Rank_data.csv')\n",
    "fig = px.line(data[data['Season']>2015], x='Season', y='Rank', color='Team', title='Rank of each team over the years', width=1000, height=600)\n",
    "app = dash.Dash(__name__)\n",
    "\n",
    "# Create layout\n",
    "app.layout = html.Div(children=[\n",
    "    html.H1(children='Bump Chart'),\n",
    "    dcc.Graph(\n",
    "        id='bump-chart',\n",
    "        figure=fig\n",
    "    )\n",
    "])\n",
    "\n",
    "# Run app\n",
    "if __name__ == '__main__':\n",
    "    app.run_server(debug=False)"
   ]
  },
  {
   "attachments": {},
   "cell_type": "markdown",
   "metadata": {},
   "source": [
    "## Per stadium matches acc to cities."
   ]
  },
  {
   "cell_type": "code",
   "execution_count": 15,
   "metadata": {},
   "outputs": [],
   "source": [
    "data = pd.read_csv('./IPL_Matches_2008_2022.csv')\n",
    "match_cities = data.groupby(['Season', 'City'])['ID'].count()\n",
    "match_cities = match_cities.reset_index()\n",
    "match_cities.to_csv('num_matches_per_city.csv', index=False)"
   ]
  },
  {
   "cell_type": "code",
   "execution_count": null,
   "metadata": {},
   "outputs": [],
   "source": [
    "data = pd.read_csv('./num_matches_per_city.csv')\n",
    "# data = data.sort_values(['Season', 'Count'])\n",
    "\n",
    "season_options = [{'label': str(season), 'value': season} for season in data['Season'].unique()]\n",
    "\n",
    "# Define the layout\n",
    "app = dash.Dash(__name__)\n",
    "app.layout = html.Div(children=[\n",
    "    html.H1(children='Number of Matches Played in Each City'),\n",
    "    dcc.Dropdown(\n",
    "        id='season-dropdown',\n",
    "        options=season_options,\n",
    "        value=data['Season'].unique()[0]\n",
    "    ),\n",
    "    dcc.Graph(\n",
    "        id='matches-per-city',\n",
    "        figure={}\n",
    "    )\n",
    "])\n",
    "\n",
    "# Define the callback function\n",
    "@app.callback(\n",
    "    dash.dependencies.Output('matches-per-city', 'figure'),\n",
    "    [dash.dependencies.Input('season-dropdown', 'value')]\n",
    ")\n",
    "def update_figure(selected_season):\n",
    "    # Filter the data based on the selected season\n",
    "    filtered_data = data[data['Season'] == selected_season].sort_values('Count')\n",
    "    \n",
    "    # Compute the count of matches in each city\n",
    "\n",
    "    # Create the figure\n",
    "    fig = px.bar(filtered_data, x='Count', y='City', orientation='h', \n",
    "                 title=f'Number of Matches Played in Each City in {selected_season}')\n",
    "    \n",
    "    return fig\n",
    "\n",
    "# Run the app\n",
    "if __name__ == '__main__':\n",
    "    app.run_server(debug=False)\n",
    "\n"
   ]
  },
  {
   "attachments": {},
   "cell_type": "markdown",
   "metadata": {},
   "source": [
    "## wickets per player"
   ]
  },
  {
   "cell_type": "code",
   "execution_count": 40,
   "metadata": {},
   "outputs": [
    {
     "name": "stderr",
     "output_type": "stream",
     "text": [
      "/tmp/ipykernel_17223/2045537076.py:1: DtypeWarning:\n",
      "\n",
      "Columns (17) have mixed types. Specify dtype option on import or set low_memory=False.\n",
      "\n"
     ]
    }
   ],
   "source": [
    "data = pd.read_csv('./IPL_Ball_by_Ball_2008_2022_with_season.csv')\n",
    "data = data[data['player_out'].isnull() == False]\n",
    "data = data.groupby(['Season', 'bowler'])['ID'].count()\n",
    "data = data.reset_index()\n",
    "data = data.sort_values(['Season', 'ID'])\n",
    "data.to_csv('num_wickets_per_bowler.csv', index=False)"
   ]
  },
  {
   "cell_type": "code",
   "execution_count": null,
   "metadata": {},
   "outputs": [],
   "source": []
  }
 ],
 "metadata": {
  "kernelspec": {
   "display_name": "base",
   "language": "python",
   "name": "python3"
  },
  "language_info": {
   "codemirror_mode": {
    "name": "ipython",
    "version": 3
   },
   "file_extension": ".py",
   "mimetype": "text/x-python",
   "name": "python",
   "nbconvert_exporter": "python",
   "pygments_lexer": "ipython3",
   "version": "3.10.6"
  },
  "orig_nbformat": 4
 },
 "nbformat": 4,
 "nbformat_minor": 2
}
