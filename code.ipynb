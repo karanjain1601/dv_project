{
 "cells": [
  {
   "cell_type": "code",
   "execution_count": 2,
   "metadata": {},
   "outputs": [
    {
     "name": "stdout",
     "output_type": "stream",
     "text": [
      "Dash is running on http://127.0.0.1:8050/\n",
      "\n",
      " * Serving Flask app '__main__'\n",
      " * Debug mode: off\n"
     ]
    },
    {
     "name": "stderr",
     "output_type": "stream",
     "text": [
      "WARNING: This is a development server. Do not use it in a production deployment. Use a production WSGI server instead.\n",
      " * Running on http://127.0.0.1:8050\n",
      "Press CTRL+C to quit\n"
     ]
    }
   ],
   "source": [
    "import dash\n",
    "import dash_core_components as dcc\n",
    "import dash_html_components as html\n",
    "from dash.dependencies import Input, Output\n",
    "\n",
    "# Define the layout for each Dashboard\n",
    "dashboard1_layout = html.Div([\n",
    "    html.H1('Dashboard 1'),\n",
    "    dcc.Link('Go to Dashboard 2', href='/dashboard2'),\n",
    "])\n",
    "\n",
    "dashboard2_layout = html.Div([\n",
    "    html.H1('Dashboard 2'),\n",
    "    dcc.Link('Go to Dashboard 1', href='/dashboard1'),\n",
    "])\n",
    "\n",
    "# Define the app\n",
    "app = dash.Dash(__name__)\n",
    "\n",
    "# Define a callback function\n",
    "@app.callback(Output('page-content', 'children'),\n",
    "              [Input('url', 'pathname')])\n",
    "def display_page(pathname):\n",
    "    if pathname == '/dashboard1':\n",
    "        return dashboard1_layout\n",
    "    elif pathname == '/dashboard2':\n",
    "        return dashboard2_layout\n",
    "    else:\n",
    "        return html.H1('404 - Page not found')\n",
    "\n",
    "# Define the app layout\n",
    "app.layout = html.Div([\n",
    "    dcc.Location(id='url', refresh=True),\n",
    "    html.Div(id='page-content')\n",
    "])\n",
    "\n",
    "if __name__ == '__main__':\n",
    "    app.run_server(debug=False)\n"
   ]
  },
  {
   "cell_type": "code",
   "execution_count": 1,
   "metadata": {},
   "outputs": [],
   "source": [
    "import plotly.graph_objs as go\n",
    "\n",
    "trace = go.Scatter(\n",
    "    x=[1, 2, 3, 4, 5],\n",
    "    y=[1, 2, 3, 4, 5],\n",
    "    mode='markers'\n",
    ")\n",
    "\n",
    "data = [trace]\n",
    "\n",
    "layout = go.Layout(\n",
    "    title='Interactive Scatter Plot',\n",
    "    xaxis=dict(title='X-axis'),\n",
    "    yaxis=dict(title='Y-axis')\n",
    ")\n",
    "\n",
    "fig = go.Figure(data=data, layout=layout)\n",
    "\n"
   ]
  },
  {
   "cell_type": "code",
   "execution_count": null,
   "metadata": {},
   "outputs": [],
   "source": [
    "print(\"asknjfa\")"
   ]
  },
  {
   "cell_type": "code",
   "execution_count": 2,
   "metadata": {},
   "outputs": [
    {
     "name": "stdout",
     "output_type": "stream",
     "text": [
      "Dash is running on http://127.0.0.1:8050/\n",
      "\n",
      " * Serving Flask app '__main__'\n",
      " * Debug mode: off\n"
     ]
    },
    {
     "name": "stderr",
     "output_type": "stream",
     "text": [
      "C:\\Users\\Karan Jain\\AppData\\Local\\Temp\\ipykernel_3696\\3270733640.py:2: UserWarning:\n",
      "\n",
      "\n",
      "The dash_core_components package is deprecated. Please replace\n",
      "`import dash_core_components as dcc` with `from dash import dcc`\n",
      "\n",
      "C:\\Users\\Karan Jain\\AppData\\Local\\Temp\\ipykernel_3696\\3270733640.py:3: UserWarning:\n",
      "\n",
      "\n",
      "The dash_html_components package is deprecated. Please replace\n",
      "`import dash_html_components as html` with `from dash import html`\n",
      "\n",
      "WARNING: This is a development server. Do not use it in a production deployment. Use a production WSGI server instead.\n",
      " * Running on http://127.0.0.1:8050\n",
      "Press CTRL+C to quit\n",
      "127.0.0.1 - - [24/Apr/2023 22:00:34] \"GET / HTTP/1.1\" 200 -\n",
      "127.0.0.1 - - [24/Apr/2023 22:00:35] \"GET /_dash-layout HTTP/1.1\" 200 -\n",
      "127.0.0.1 - - [24/Apr/2023 22:00:35] \"GET /_dash-dependencies HTTP/1.1\" 200 -\n",
      "127.0.0.1 - - [24/Apr/2023 22:00:35] \"GET /_dash-component-suites/dash/dcc/async-graph.js HTTP/1.1\" 304 -\n",
      "127.0.0.1 - - [24/Apr/2023 22:00:35] \"GET /_dash-component-suites/dash/dcc/async-plotlyjs.js HTTP/1.1\" 304 -\n"
     ]
    }
   ],
   "source": [
    "import dash\n",
    "import dash_core_components as dcc\n",
    "import dash_html_components as html\n",
    "\n",
    "app = dash.Dash()\n",
    "\n",
    "app.layout = html.Div([\n",
    "    html.H1('My Interactive Dashboard'),\n",
    "    dcc.Graph(\n",
    "        id='my-graph',\n",
    "        figure=fig\n",
    "    )\n",
    "])\n",
    "\n",
    "if __name__ == '__main__':\n",
    "    app.run_server(debug=False)\n"
   ]
  },
  {
   "cell_type": "code",
   "execution_count": null,
   "metadata": {},
   "outputs": [],
   "source": []
  }
 ],
 "metadata": {
  "kernelspec": {
   "display_name": "base",
   "language": "python",
   "name": "python3"
  },
  "language_info": {
   "codemirror_mode": {
    "name": "ipython",
    "version": 3
   },
   "file_extension": ".py",
   "mimetype": "text/x-python",
   "name": "python",
   "nbconvert_exporter": "python",
   "pygments_lexer": "ipython3",
   "version": "3.10.9"
  },
  "orig_nbformat": 4
 },
 "nbformat": 4,
 "nbformat_minor": 2
}
